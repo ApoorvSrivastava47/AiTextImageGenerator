{
  "nbformat": 4,
  "nbformat_minor": 0,
  "metadata": {
    "colab": {
      "provenance": [],
      "gpuType": "T4",
      "include_colab_link": true
    },
    "kernelspec": {
      "name": "python3",
      "display_name": "Python 3"
    },
    "language_info": {
      "name": "python"
    },
    "accelerator": "GPU",
    "widgets": {
      "application/vnd.jupyter.widget-state+json": {
        "d889c97fbcef4f2cad515d09a54682f7": {
          "model_module": "@jupyter-widgets/controls",
          "model_name": "HBoxModel",
          "model_module_version": "1.5.0",
          "state": {
            "_dom_classes": [],
            "_model_module": "@jupyter-widgets/controls",
            "_model_module_version": "1.5.0",
            "_model_name": "HBoxModel",
            "_view_count": null,
            "_view_module": "@jupyter-widgets/controls",
            "_view_module_version": "1.5.0",
            "_view_name": "HBoxView",
            "box_style": "",
            "children": [
              "IPY_MODEL_64d00d4dec2c4fac87699e273962a180",
              "IPY_MODEL_8ad6e5ac542a42a5a8cea47cb69bac2c",
              "IPY_MODEL_dee1f9c59d3d46348f786c91b0b8e932"
            ],
            "layout": "IPY_MODEL_92083471c80f44c3935f9c3f3ceac3fb"
          }
        },
        "64d00d4dec2c4fac87699e273962a180": {
          "model_module": "@jupyter-widgets/controls",
          "model_name": "HTMLModel",
          "model_module_version": "1.5.0",
          "state": {
            "_dom_classes": [],
            "_model_module": "@jupyter-widgets/controls",
            "_model_module_version": "1.5.0",
            "_model_name": "HTMLModel",
            "_view_count": null,
            "_view_module": "@jupyter-widgets/controls",
            "_view_module_version": "1.5.0",
            "_view_name": "HTMLView",
            "description": "",
            "description_tooltip": null,
            "layout": "IPY_MODEL_f717bd9734124dd09cfda22967b16f60",
            "placeholder": "​",
            "style": "IPY_MODEL_7210aec2eff3473c962f66fdc75fed24",
            "value": "Loading pipeline components...: 100%"
          }
        },
        "8ad6e5ac542a42a5a8cea47cb69bac2c": {
          "model_module": "@jupyter-widgets/controls",
          "model_name": "FloatProgressModel",
          "model_module_version": "1.5.0",
          "state": {
            "_dom_classes": [],
            "_model_module": "@jupyter-widgets/controls",
            "_model_module_version": "1.5.0",
            "_model_name": "FloatProgressModel",
            "_view_count": null,
            "_view_module": "@jupyter-widgets/controls",
            "_view_module_version": "1.5.0",
            "_view_name": "ProgressView",
            "bar_style": "success",
            "description": "",
            "description_tooltip": null,
            "layout": "IPY_MODEL_f226c2f4f2824502983c1ac7897f514b",
            "max": 7,
            "min": 0,
            "orientation": "horizontal",
            "style": "IPY_MODEL_a9ecd1fc5dac488a8e08b5d6256e2804",
            "value": 7
          }
        },
        "dee1f9c59d3d46348f786c91b0b8e932": {
          "model_module": "@jupyter-widgets/controls",
          "model_name": "HTMLModel",
          "model_module_version": "1.5.0",
          "state": {
            "_dom_classes": [],
            "_model_module": "@jupyter-widgets/controls",
            "_model_module_version": "1.5.0",
            "_model_name": "HTMLModel",
            "_view_count": null,
            "_view_module": "@jupyter-widgets/controls",
            "_view_module_version": "1.5.0",
            "_view_name": "HTMLView",
            "description": "",
            "description_tooltip": null,
            "layout": "IPY_MODEL_fea785358f9c414b8147c92a5c1af27e",
            "placeholder": "​",
            "style": "IPY_MODEL_90dbe4ed59c64c2e83789562146203fb",
            "value": " 7/7 [00:23&lt;00:00,  2.96s/it]"
          }
        },
        "92083471c80f44c3935f9c3f3ceac3fb": {
          "model_module": "@jupyter-widgets/base",
          "model_name": "LayoutModel",
          "model_module_version": "1.2.0",
          "state": {
            "_model_module": "@jupyter-widgets/base",
            "_model_module_version": "1.2.0",
            "_model_name": "LayoutModel",
            "_view_count": null,
            "_view_module": "@jupyter-widgets/base",
            "_view_module_version": "1.2.0",
            "_view_name": "LayoutView",
            "align_content": null,
            "align_items": null,
            "align_self": null,
            "border": null,
            "bottom": null,
            "display": null,
            "flex": null,
            "flex_flow": null,
            "grid_area": null,
            "grid_auto_columns": null,
            "grid_auto_flow": null,
            "grid_auto_rows": null,
            "grid_column": null,
            "grid_gap": null,
            "grid_row": null,
            "grid_template_areas": null,
            "grid_template_columns": null,
            "grid_template_rows": null,
            "height": null,
            "justify_content": null,
            "justify_items": null,
            "left": null,
            "margin": null,
            "max_height": null,
            "max_width": null,
            "min_height": null,
            "min_width": null,
            "object_fit": null,
            "object_position": null,
            "order": null,
            "overflow": null,
            "overflow_x": null,
            "overflow_y": null,
            "padding": null,
            "right": null,
            "top": null,
            "visibility": null,
            "width": null
          }
        },
        "f717bd9734124dd09cfda22967b16f60": {
          "model_module": "@jupyter-widgets/base",
          "model_name": "LayoutModel",
          "model_module_version": "1.2.0",
          "state": {
            "_model_module": "@jupyter-widgets/base",
            "_model_module_version": "1.2.0",
            "_model_name": "LayoutModel",
            "_view_count": null,
            "_view_module": "@jupyter-widgets/base",
            "_view_module_version": "1.2.0",
            "_view_name": "LayoutView",
            "align_content": null,
            "align_items": null,
            "align_self": null,
            "border": null,
            "bottom": null,
            "display": null,
            "flex": null,
            "flex_flow": null,
            "grid_area": null,
            "grid_auto_columns": null,
            "grid_auto_flow": null,
            "grid_auto_rows": null,
            "grid_column": null,
            "grid_gap": null,
            "grid_row": null,
            "grid_template_areas": null,
            "grid_template_columns": null,
            "grid_template_rows": null,
            "height": null,
            "justify_content": null,
            "justify_items": null,
            "left": null,
            "margin": null,
            "max_height": null,
            "max_width": null,
            "min_height": null,
            "min_width": null,
            "object_fit": null,
            "object_position": null,
            "order": null,
            "overflow": null,
            "overflow_x": null,
            "overflow_y": null,
            "padding": null,
            "right": null,
            "top": null,
            "visibility": null,
            "width": null
          }
        },
        "7210aec2eff3473c962f66fdc75fed24": {
          "model_module": "@jupyter-widgets/controls",
          "model_name": "DescriptionStyleModel",
          "model_module_version": "1.5.0",
          "state": {
            "_model_module": "@jupyter-widgets/controls",
            "_model_module_version": "1.5.0",
            "_model_name": "DescriptionStyleModel",
            "_view_count": null,
            "_view_module": "@jupyter-widgets/base",
            "_view_module_version": "1.2.0",
            "_view_name": "StyleView",
            "description_width": ""
          }
        },
        "f226c2f4f2824502983c1ac7897f514b": {
          "model_module": "@jupyter-widgets/base",
          "model_name": "LayoutModel",
          "model_module_version": "1.2.0",
          "state": {
            "_model_module": "@jupyter-widgets/base",
            "_model_module_version": "1.2.0",
            "_model_name": "LayoutModel",
            "_view_count": null,
            "_view_module": "@jupyter-widgets/base",
            "_view_module_version": "1.2.0",
            "_view_name": "LayoutView",
            "align_content": null,
            "align_items": null,
            "align_self": null,
            "border": null,
            "bottom": null,
            "display": null,
            "flex": null,
            "flex_flow": null,
            "grid_area": null,
            "grid_auto_columns": null,
            "grid_auto_flow": null,
            "grid_auto_rows": null,
            "grid_column": null,
            "grid_gap": null,
            "grid_row": null,
            "grid_template_areas": null,
            "grid_template_columns": null,
            "grid_template_rows": null,
            "height": null,
            "justify_content": null,
            "justify_items": null,
            "left": null,
            "margin": null,
            "max_height": null,
            "max_width": null,
            "min_height": null,
            "min_width": null,
            "object_fit": null,
            "object_position": null,
            "order": null,
            "overflow": null,
            "overflow_x": null,
            "overflow_y": null,
            "padding": null,
            "right": null,
            "top": null,
            "visibility": null,
            "width": null
          }
        },
        "a9ecd1fc5dac488a8e08b5d6256e2804": {
          "model_module": "@jupyter-widgets/controls",
          "model_name": "ProgressStyleModel",
          "model_module_version": "1.5.0",
          "state": {
            "_model_module": "@jupyter-widgets/controls",
            "_model_module_version": "1.5.0",
            "_model_name": "ProgressStyleModel",
            "_view_count": null,
            "_view_module": "@jupyter-widgets/base",
            "_view_module_version": "1.2.0",
            "_view_name": "StyleView",
            "bar_color": null,
            "description_width": ""
          }
        },
        "fea785358f9c414b8147c92a5c1af27e": {
          "model_module": "@jupyter-widgets/base",
          "model_name": "LayoutModel",
          "model_module_version": "1.2.0",
          "state": {
            "_model_module": "@jupyter-widgets/base",
            "_model_module_version": "1.2.0",
            "_model_name": "LayoutModel",
            "_view_count": null,
            "_view_module": "@jupyter-widgets/base",
            "_view_module_version": "1.2.0",
            "_view_name": "LayoutView",
            "align_content": null,
            "align_items": null,
            "align_self": null,
            "border": null,
            "bottom": null,
            "display": null,
            "flex": null,
            "flex_flow": null,
            "grid_area": null,
            "grid_auto_columns": null,
            "grid_auto_flow": null,
            "grid_auto_rows": null,
            "grid_column": null,
            "grid_gap": null,
            "grid_row": null,
            "grid_template_areas": null,
            "grid_template_columns": null,
            "grid_template_rows": null,
            "height": null,
            "justify_content": null,
            "justify_items": null,
            "left": null,
            "margin": null,
            "max_height": null,
            "max_width": null,
            "min_height": null,
            "min_width": null,
            "object_fit": null,
            "object_position": null,
            "order": null,
            "overflow": null,
            "overflow_x": null,
            "overflow_y": null,
            "padding": null,
            "right": null,
            "top": null,
            "visibility": null,
            "width": null
          }
        },
        "90dbe4ed59c64c2e83789562146203fb": {
          "model_module": "@jupyter-widgets/controls",
          "model_name": "DescriptionStyleModel",
          "model_module_version": "1.5.0",
          "state": {
            "_model_module": "@jupyter-widgets/controls",
            "_model_module_version": "1.5.0",
            "_model_name": "DescriptionStyleModel",
            "_view_count": null,
            "_view_module": "@jupyter-widgets/base",
            "_view_module_version": "1.2.0",
            "_view_name": "StyleView",
            "description_width": ""
          }
        }
      }
    }
  },
  "cells": [
    {
      "cell_type": "markdown",
      "metadata": {
        "id": "view-in-github",
        "colab_type": "text"
      },
      "source": [
        "<a href=\"https://colab.research.google.com/github/ApoorvSrivastava47/AiTextImageGenerator/blob/main/Untitled3.ipynb\" target=\"_parent\"><img src=\"https://colab.research.google.com/assets/colab-badge.svg\" alt=\"Open In Colab\"/></a>"
      ]
    },
    {
      "cell_type": "markdown",
      "source": [
        "**AI Image Generator with Stable Diffusion**\n",
        "\n",
        "\n",
        "This is a simple and powerful AI image generation web app built using Hugging Face's diffusers library and deployed on Gradio + Hugging Face Spaces.\n",
        "\n",
        "It uses **Stable Diffusion v1.5** to generate* high-quality images *from text prompts given by the user.\n",
        "\n",
        "-------------------------------------------------------------------------\n",
        "\n",
        " **Features**\n",
        "\n",
        " Text-to-Image generation using Stable Diffusion\n",
        "\n",
        " Clean and simple web interface via Gradio\n",
        "\n",
        " Fast image generation with GPU support (CUDA)\n",
        "\n",
        " Fully deployable and shareable via Hugging Face Spaces\n",
        "\n",
        " ------------------------------------------------------------------------\n",
        "\n",
        " **Demo**\n",
        "\n",
        " Try it here: https://<your-space-name>.huggingface.space\n",
        "(Replace with your actual Hugging Face Space URL)\n",
        "\n",
        " How It Works\n",
        "User enters a text prompt (e.g., \"a cat sitting on the moon\").\n",
        "\n",
        "The backend runs Stable Diffusion to convert text into an image.\n",
        "\n",
        "The output image is displayed on the web interface in seconds.\n",
        "\n",
        " Requirements\n",
        "These packages are required (also saved in requirements.txt):\n",
        "\n",
        "\n",
        "1.   Txt\n",
        "2.   Copy\n",
        "3.   Edit\n",
        "4.   Diffusers\n",
        "5.   Transformers\n",
        "6.   Accelerate\n",
        "7.   Safetensors\n",
        "8.   Torch\n",
        "9.   Gradio\n"
      ],
      "metadata": {
        "id": "WshfsRgbvyPr"
      }
    },
    {
      "cell_type": "markdown",
      "source": [
        "\n",
        "\n",
        "-------------------------------------------------------------------------\n",
        "\n"
      ],
      "metadata": {
        "id": "EvuJgxcT0ceK"
      }
    },
    {
      "cell_type": "markdown",
      "source": [
        "**Step 1:** Installed and upgraded key HuggingFace libraries italicized text upgraded key HuggingFace libraries\n",
        "\n",
        "\n",
        "1.  Diffusers\n",
        "2.  Transformers\n",
        "\n",
        "Transformers\n",
        "Accelerate\n",
        "Safetensors -to enable use of text generation, text-to-image generation, and fast model execution with secure and efficient model weight loading."
      ],
      "metadata": {
        "id": "JsTvrbZst1E6"
      }
    },
    {
      "cell_type": "code",
      "execution_count": 15,
      "metadata": {
        "colab": {
          "base_uri": "https://localhost:8080/"
        },
        "id": "yHBED87ABzu8",
        "outputId": "3ab137a4-7ffd-4db6-a592-7c441578d76d"
      },
      "outputs": [
        {
          "output_type": "stream",
          "name": "stdout",
          "text": [
            "Requirement already satisfied: diffusers in /usr/local/lib/python3.11/dist-packages (0.34.0)\n",
            "Requirement already satisfied: transformers in /usr/local/lib/python3.11/dist-packages (4.54.1)\n",
            "Requirement already satisfied: accelerate in /usr/local/lib/python3.11/dist-packages (1.9.0)\n",
            "Requirement already satisfied: importlib_metadata in /usr/local/lib/python3.11/dist-packages (from diffusers) (8.7.0)\n",
            "Requirement already satisfied: filelock in /usr/local/lib/python3.11/dist-packages (from diffusers) (3.18.0)\n",
            "Requirement already satisfied: huggingface-hub>=0.27.0 in /usr/local/lib/python3.11/dist-packages (from diffusers) (0.34.3)\n",
            "Requirement already satisfied: numpy in /usr/local/lib/python3.11/dist-packages (from diffusers) (2.0.2)\n",
            "Requirement already satisfied: regex!=2019.12.17 in /usr/local/lib/python3.11/dist-packages (from diffusers) (2024.11.6)\n",
            "Requirement already satisfied: requests in /usr/local/lib/python3.11/dist-packages (from diffusers) (2.32.3)\n",
            "Requirement already satisfied: safetensors>=0.3.1 in /usr/local/lib/python3.11/dist-packages (from diffusers) (0.5.3)\n",
            "Requirement already satisfied: Pillow in /usr/local/lib/python3.11/dist-packages (from diffusers) (11.3.0)\n",
            "Requirement already satisfied: packaging>=20.0 in /usr/local/lib/python3.11/dist-packages (from transformers) (25.0)\n",
            "Requirement already satisfied: pyyaml>=5.1 in /usr/local/lib/python3.11/dist-packages (from transformers) (6.0.2)\n",
            "Requirement already satisfied: tokenizers<0.22,>=0.21 in /usr/local/lib/python3.11/dist-packages (from transformers) (0.21.4)\n",
            "Requirement already satisfied: tqdm>=4.27 in /usr/local/lib/python3.11/dist-packages (from transformers) (4.67.1)\n",
            "Requirement already satisfied: psutil in /usr/local/lib/python3.11/dist-packages (from accelerate) (5.9.5)\n",
            "Requirement already satisfied: torch>=2.0.0 in /usr/local/lib/python3.11/dist-packages (from accelerate) (2.6.0+cu124)\n",
            "Requirement already satisfied: fsspec>=2023.5.0 in /usr/local/lib/python3.11/dist-packages (from huggingface-hub>=0.27.0->diffusers) (2025.3.0)\n",
            "Requirement already satisfied: typing-extensions>=3.7.4.3 in /usr/local/lib/python3.11/dist-packages (from huggingface-hub>=0.27.0->diffusers) (4.14.1)\n",
            "Requirement already satisfied: hf-xet<2.0.0,>=1.1.3 in /usr/local/lib/python3.11/dist-packages (from huggingface-hub>=0.27.0->diffusers) (1.1.5)\n",
            "Requirement already satisfied: networkx in /usr/local/lib/python3.11/dist-packages (from torch>=2.0.0->accelerate) (3.5)\n",
            "Requirement already satisfied: jinja2 in /usr/local/lib/python3.11/dist-packages (from torch>=2.0.0->accelerate) (3.1.6)\n",
            "Requirement already satisfied: nvidia-cuda-nvrtc-cu12==12.4.127 in /usr/local/lib/python3.11/dist-packages (from torch>=2.0.0->accelerate) (12.4.127)\n",
            "Requirement already satisfied: nvidia-cuda-runtime-cu12==12.4.127 in /usr/local/lib/python3.11/dist-packages (from torch>=2.0.0->accelerate) (12.4.127)\n",
            "Requirement already satisfied: nvidia-cuda-cupti-cu12==12.4.127 in /usr/local/lib/python3.11/dist-packages (from torch>=2.0.0->accelerate) (12.4.127)\n",
            "Requirement already satisfied: nvidia-cudnn-cu12==9.1.0.70 in /usr/local/lib/python3.11/dist-packages (from torch>=2.0.0->accelerate) (9.1.0.70)\n",
            "Requirement already satisfied: nvidia-cublas-cu12==12.4.5.8 in /usr/local/lib/python3.11/dist-packages (from torch>=2.0.0->accelerate) (12.4.5.8)\n",
            "Requirement already satisfied: nvidia-cufft-cu12==11.2.1.3 in /usr/local/lib/python3.11/dist-packages (from torch>=2.0.0->accelerate) (11.2.1.3)\n",
            "Requirement already satisfied: nvidia-curand-cu12==10.3.5.147 in /usr/local/lib/python3.11/dist-packages (from torch>=2.0.0->accelerate) (10.3.5.147)\n",
            "Requirement already satisfied: nvidia-cusolver-cu12==11.6.1.9 in /usr/local/lib/python3.11/dist-packages (from torch>=2.0.0->accelerate) (11.6.1.9)\n",
            "Requirement already satisfied: nvidia-cusparse-cu12==12.3.1.170 in /usr/local/lib/python3.11/dist-packages (from torch>=2.0.0->accelerate) (12.3.1.170)\n",
            "Requirement already satisfied: nvidia-cusparselt-cu12==0.6.2 in /usr/local/lib/python3.11/dist-packages (from torch>=2.0.0->accelerate) (0.6.2)\n",
            "Requirement already satisfied: nvidia-nccl-cu12==2.21.5 in /usr/local/lib/python3.11/dist-packages (from torch>=2.0.0->accelerate) (2.21.5)\n",
            "Requirement already satisfied: nvidia-nvtx-cu12==12.4.127 in /usr/local/lib/python3.11/dist-packages (from torch>=2.0.0->accelerate) (12.4.127)\n",
            "Requirement already satisfied: nvidia-nvjitlink-cu12==12.4.127 in /usr/local/lib/python3.11/dist-packages (from torch>=2.0.0->accelerate) (12.4.127)\n",
            "Requirement already satisfied: triton==3.2.0 in /usr/local/lib/python3.11/dist-packages (from torch>=2.0.0->accelerate) (3.2.0)\n",
            "Requirement already satisfied: sympy==1.13.1 in /usr/local/lib/python3.11/dist-packages (from torch>=2.0.0->accelerate) (1.13.1)\n",
            "Requirement already satisfied: mpmath<1.4,>=1.1.0 in /usr/local/lib/python3.11/dist-packages (from sympy==1.13.1->torch>=2.0.0->accelerate) (1.3.0)\n",
            "Requirement already satisfied: zipp>=3.20 in /usr/local/lib/python3.11/dist-packages (from importlib_metadata->diffusers) (3.23.0)\n",
            "Requirement already satisfied: charset-normalizer<4,>=2 in /usr/local/lib/python3.11/dist-packages (from requests->diffusers) (3.4.2)\n",
            "Requirement already satisfied: idna<4,>=2.5 in /usr/local/lib/python3.11/dist-packages (from requests->diffusers) (3.10)\n",
            "Requirement already satisfied: urllib3<3,>=1.21.1 in /usr/local/lib/python3.11/dist-packages (from requests->diffusers) (2.5.0)\n",
            "Requirement already satisfied: certifi>=2017.4.17 in /usr/local/lib/python3.11/dist-packages (from requests->diffusers) (2025.7.14)\n",
            "Requirement already satisfied: MarkupSafe>=2.0 in /usr/local/lib/python3.11/dist-packages (from jinja2->torch>=2.0.0->accelerate) (3.0.2)\n",
            "Requirement already satisfied: safetensors in /usr/local/lib/python3.11/dist-packages (0.5.3)\n"
          ]
        }
      ],
      "source": [
        "\n",
        "!pip install --upgrade diffusers transformers accelerate\n",
        "!pip install safetensors"
      ]
    },
    {
      "cell_type": "markdown",
      "source": [
        "----------------------------------------------------------------------------------------------------"
      ],
      "metadata": {
        "id": "FTiP1pFEGJCe"
      }
    },
    {
      "cell_type": "markdown",
      "source": [
        " **Step 2:** Login to Hugging Face\n",
        "\n",
        "*  Used a token to authenticate access to models:\n",
        "\n",
        "\n"
      ],
      "metadata": {
        "id": "YSFaiDRP00Fa"
      }
    },
    {
      "cell_type": "code",
      "source": [
        "import torch\n",
        "import gradio as gr\n",
        "from diffusers import StableDiffusionPipeline\n",
        "from huggingface_hub import login"
      ],
      "metadata": {
        "id": "b46vOtysCSqn"
      },
      "execution_count": 16,
      "outputs": []
    },
    {
      "cell_type": "markdown",
      "source": [
        "-----------------------------------------------------------------------------------------"
      ],
      "metadata": {
        "id": "SQoYjtogGPyl"
      }
    },
    {
      "cell_type": "markdown",
      "source": [
        "**Step 3:** Load the Pretrained Model\n",
        "\n",
        "*   Used StableDiffusionPipeline from diffusers:\n",
        "\n",
        "\n",
        "\n"
      ],
      "metadata": {
        "id": "7DC6kvm51OZj"
      }
    },
    {
      "cell_type": "code",
      "source": [
        "# Step 3: Authenticate with Hugging Face\n",
        "login(\"\")"
      ],
      "metadata": {
        "id": "Q72XjYIXCeuz"
      },
      "execution_count": 18,
      "outputs": []
    },
    {
      "cell_type": "markdown",
      "source": [
        "-----------------------------------------------------------------------------------------"
      ],
      "metadata": {
        "id": "obmLwpoTGUn-"
      }
    },
    {
      "cell_type": "markdown",
      "source": [
        "**Step 4**: Generate Image from Prompt\n",
        "\n",
        "*   User inputs a text prompt, and the model generates an image\n",
        "\n",
        "\n",
        "\n"
      ],
      "metadata": {
        "id": "mRsXBWn01dHb"
      }
    },
    {
      "cell_type": "code",
      "source": [
        "#  Step 4: Load the pipeline\n",
        "\n",
        "pipe = StableDiffusionPipeline.from_pretrained(\n",
        "    \"runwayml/stable-diffusion-v1-5\",\n",
        "    torch_dtype=torch.float16,\n",
        "    use_safetensors=True\n",
        ")\n",
        "pipe = pipe.to(\"cuda\")\n"
      ],
      "metadata": {
        "id": "rAu1JzAlCmWS",
        "colab": {
          "base_uri": "https://localhost:8080/",
          "height": 49,
          "referenced_widgets": [
            "d889c97fbcef4f2cad515d09a54682f7",
            "64d00d4dec2c4fac87699e273962a180",
            "8ad6e5ac542a42a5a8cea47cb69bac2c",
            "dee1f9c59d3d46348f786c91b0b8e932",
            "92083471c80f44c3935f9c3f3ceac3fb",
            "f717bd9734124dd09cfda22967b16f60",
            "7210aec2eff3473c962f66fdc75fed24",
            "f226c2f4f2824502983c1ac7897f514b",
            "a9ecd1fc5dac488a8e08b5d6256e2804",
            "fea785358f9c414b8147c92a5c1af27e",
            "90dbe4ed59c64c2e83789562146203fb"
          ]
        },
        "outputId": "4f35f87d-427d-4d64-ab19-b543b3f1f0af"
      },
      "execution_count": 19,
      "outputs": [
        {
          "output_type": "display_data",
          "data": {
            "text/plain": [
              "Loading pipeline components...:   0%|          | 0/7 [00:00<?, ?it/s]"
            ],
            "application/vnd.jupyter.widget-view+json": {
              "version_major": 2,
              "version_minor": 0,
              "model_id": "d889c97fbcef4f2cad515d09a54682f7"
            }
          },
          "metadata": {}
        }
      ]
    },
    {
      "cell_type": "markdown",
      "source": [
        "-----------------------------------------------------------------------------------------"
      ],
      "metadata": {
        "id": "nhZWR_FoGWnl"
      }
    },
    {
      "cell_type": "markdown",
      "source": [
        "**Step 5:** Display Image\n",
        "\n",
        "*   Displayed the image using matplotlib:\n",
        "\n",
        "\n",
        "\n"
      ],
      "metadata": {
        "id": "O_btHClz1qcz"
      }
    },
    {
      "cell_type": "code",
      "source": [
        "def generate_image(prompt):\n",
        "    print(\" Prompt received:\", prompt)\n",
        "    try:\n",
        "        image = pipe(prompt).images[0]\n",
        "        print(\"Image generated successfully\")\n",
        "        return image\n",
        "    except Exception as e:\n",
        "        print(\" Error in generating image:\", str(e))  # Yeh sabse important line hai\n",
        "        return None"
      ],
      "metadata": {
        "id": "OBxilsZxCpBZ"
      },
      "execution_count": 20,
      "outputs": []
    },
    {
      "cell_type": "markdown",
      "source": [
        "-----------------------------------------------------------------------------------------"
      ],
      "metadata": {
        "id": "SmdP7EZuGYOd"
      }
    },
    {
      "cell_type": "markdown",
      "source": [
        "**Step 6 :** Building the Web Interface**\n",
        "      Why Gradio?\n",
        "\n",
        "*    Gradio provides a quick and easy way to create web interfaces for machine learning models.\n",
        "\n"
      ],
      "metadata": {
        "id": "HTvvFHty2HmL"
      }
    },
    {
      "cell_type": "code",
      "source": [
        "# Gradio UI\n",
        "demo = gr.Interface(\n",
        "    fn=generate_image,\n",
        "    inputs=gr.Textbox(label=\"Enter your image prompt\"),\n",
        "    outputs=gr.Image(type=\"pil\"),\n",
        "    title=\"Stable Diffusion Generator\",\n",
        "    description=\"Enter any creative prompt and get an AI-generated image!\"\n",
        ")\n",
        "\n",
        "# Launch UI\n",
        "demo.launch(share=True)"
      ],
      "metadata": {
        "id": "0oDH_0BBCz-Y",
        "colab": {
          "base_uri": "https://localhost:8080/",
          "height": 610
        },
        "outputId": "020b9adf-bc7b-4bfc-b2b4-0ca652e032a8"
      },
      "execution_count": 21,
      "outputs": [
        {
          "output_type": "stream",
          "name": "stdout",
          "text": [
            "Colab notebook detected. To show errors in colab notebook, set debug=True in launch()\n",
            "* Running on public URL: https://f2d7b0f23826ac610e.gradio.live\n",
            "\n",
            "This share link expires in 1 week. For free permanent hosting and GPU upgrades, run `gradio deploy` from the terminal in the working directory to deploy to Hugging Face Spaces (https://huggingface.co/spaces)\n"
          ]
        },
        {
          "output_type": "display_data",
          "data": {
            "text/plain": [
              "<IPython.core.display.HTML object>"
            ],
            "text/html": [
              "<div><iframe src=\"https://f2d7b0f23826ac610e.gradio.live\" width=\"100%\" height=\"500\" allow=\"autoplay; camera; microphone; clipboard-read; clipboard-write;\" frameborder=\"0\" allowfullscreen></iframe></div>"
            ]
          },
          "metadata": {}
        },
        {
          "output_type": "execute_result",
          "data": {
            "text/plain": []
          },
          "metadata": {},
          "execution_count": 21
        }
      ]
    },
    {
      "cell_type": "markdown",
      "source": [],
      "metadata": {
        "id": "HO2HVZvVGgBl"
      }
    },
    {
      "cell_type": "markdown",
      "source": [
        "\n",
        "\n",
        "## **Possible Challenges You May Have Faced**\n",
        "\n",
        "### 1. **Environment and Dependency Issues**\n",
        "\n",
        "* Installing heavy libraries like `diffusers`, `transformers`, `torch`, `safetensors`take time and cause version conflicts.\n",
        "* Frequent updates of Hugging Face libraries break compatibility.\n",
        "* CUDA compatibility issues during PyTorch or Stable Diffusion usage (e.g., wrong `torch_dtype` or incompatible CUDA versions).\n",
        "* Long installation times or memory overflows due to Colab RAM/VRAM limitations.\n",
        "\n",
        "---\n",
        "\n",
        "### 2. **Hugging Face Authentication Problems**\n",
        "\n",
        "* Token errors due to:\n",
        "\n",
        "  * Expired token\n",
        "  * Wrong token scope (read vs write)\n",
        "  * Using `login()` in the wrong order or without internet access\n",
        "\n",
        "---\n",
        "\n",
        "### 3. **Model Loading Errors**\n",
        "\n",
        "* Issues with `StableDiffusionPipeline`:\n",
        "\n",
        "  * `use_safetensors=True` but the model doesn’t support it\n",
        "  * `torch_dtype=torch.float16` not supported on CPU\n",
        "  * Colab free tier  not have GPU available, which can cause the pipeline to crash or be slow\n",
        "\n",
        "---\n",
        "\n",
        "### 4. **Image Generation Failures**\n",
        "\n",
        "* Prompt too long or too short causing `pipe(prompt).images[0]` to fail\n",
        "* Timeout due to GPU overload or slow Hugging Face response\n",
        "* Output not returned as expected — resulting in corrupted or blank images\n",
        "\n",
        "---\n",
        "\n",
        "### 5. **Debugging and Exception Handling**\n",
        "\n",
        "* Lack of detailed error messages makes debugging harder\n",
        "* Your `try/except` block is good, but adding full tracebacks could improve diagnostics\n",
        "\n",
        "---\n",
        "\n",
        "### 6. **Gradio Deployment Challenges**\n",
        "\n",
        "* Internet issues during `demo.launch(share=True)` can cause interface failures\n",
        "* Gradio UI may lag in Colab environments\n",
        "* Colab runtime disconnects or times out frequently\n",
        "* Deploying to Hugging Face Spaces requires additional setup: GitHub integration, model card, etc.\n",
        "\n",
        "---\n",
        "\n",
        "### 7. **Hardware Limitations (Colab)**\n",
        "\n",
        "* Free GPU quota exceeded message\n",
        "* Out-of-memory error during image generation with high-resolution prompts\n",
        "* Colab shuts down runtime due to inactivity if testing takes too long\n",
        "\n",
        "---\n",
        "\n",
        "### 8. **Performance and Usability Gaps**\n",
        "\n",
        "* No visual feedback (like a progress bar) during image generation\n",
        "* No input validation — blank or broken prompt may crash the pipeline\n",
        "* Output image display lacks metadata, download options, or customization\n",
        "\n",
        "---\n",
        "\n",
        "### 9. **Security and Safety Concerns**\n",
        "\n",
        "* Hardcoded Hugging Face access token is visible in your notebook — this is a security vulnerability\n",
        "* The app allows open-ended text input, which could be misused for inappropriate prompt generation\n",
        "* If `safety_checker=None` is used, NSFW content may be generated\n",
        "\n",
        "---\n",
        "\n",
        "### 10. **Missing Functional Enhancements**\n",
        "\n",
        "* No prompt history or way to store previously generated images\n",
        "* No control over resolution, number of images, or visual style\n",
        "* No download/save option for the generated image\n",
        "\n",
        "---\n",
        "\n",
        "## **Suggested Enhancements**\n",
        "\n",
        "| Area           | Suggestion                                               |\n",
        "| -------------- | -------------------------------------------------------- |\n",
        "| Token handling | Use `getpass.getpass()` to hide token input              |\n",
        "| Prompt control | Add input validation and length limits                   |\n",
        "| Image options  | Allow multiple image generation and resolution control   |\n",
        "| Output UI      | Add a download button for the generated image            |\n",
        "| Safety         | Enable a basic NSFW filter and remove unsafe parameters  |\n",
        "| Deployment     | Prepare Hugging Face Space with `app.py` and `README.md` |\n",
        "\n",
        "---\n",
        "\n"
      ],
      "metadata": {
        "id": "iUVqS85cHnF9"
      }
    },
    {
      "cell_type": "markdown",
      "source": [],
      "metadata": {
        "id": "9SVzm3_9cPqb"
      }
    }
  ]
}